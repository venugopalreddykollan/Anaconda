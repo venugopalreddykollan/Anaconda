{
 "cells": [
  {
   "cell_type": "markdown",
   "metadata": {},
   "source": [
    "# Functional Programming\n",
    "1. Simple\n",
    "2. Easy to understand\n",
    "3. Better reuseability\n",
    "4. Length of program will be divided into sub programs"
   ]
  },
  {
   "cell_type": "code",
   "execution_count": null,
   "metadata": {},
   "outputs": [],
   "source": [
    "def nameofFunction(<parameters>):\n",
    "    statements\n",
    "    return"
   ]
  },
  {
   "cell_type": "markdown",
   "metadata": {},
   "source": [
    "### Read a number\n",
    "### Print the even digit sum from the number\n",
    "\n",
    "#### Input : 1234\n",
    "#### Output : 6(2+4)"
   ]
  },
  {
   "cell_type": "code",
   "execution_count": 4,
   "metadata": {},
   "outputs": [
    {
     "data": {
      "text/plain": [
       "6"
      ]
     },
     "execution_count": 4,
     "metadata": {},
     "output_type": "execute_result"
    }
   ],
   "source": [
    "def evendigitsum(n):\n",
    "    s=0\n",
    "    while n!=0:\n",
    "        r=n%10\n",
    "        if r%2==0:\n",
    "            s=s+r\n",
    "        n=n//10\n",
    "    return s\n",
    "evendigitsum(1234)"
   ]
  },
  {
   "cell_type": "code",
   "execution_count": 5,
   "metadata": {},
   "outputs": [
    {
     "name": "stdout",
     "output_type": "stream",
     "text": [
      "16\n",
      "None\n"
     ]
    }
   ],
   "source": [
    "# define return function\n",
    "def square(x):\n",
    "    print(x*x)\n",
    "print(square(4))"
   ]
  },
  {
   "cell_type": "code",
   "execution_count": 7,
   "metadata": {},
   "outputs": [
    {
     "data": {
      "text/plain": [
       "9"
      ]
     },
     "execution_count": 7,
     "metadata": {},
     "output_type": "execute_result"
    }
   ],
   "source": [
    "def square(x):\n",
    "    return x*x\n",
    "square(3)"
   ]
  },
  {
   "cell_type": "code",
   "execution_count": 8,
   "metadata": {},
   "outputs": [
    {
     "data": {
      "text/plain": [
       "27"
      ]
     },
     "execution_count": 8,
     "metadata": {},
     "output_type": "execute_result"
    }
   ],
   "source": [
    "def cube(x):\n",
    "    return x*x*x\n",
    "cube(3)"
   ]
  },
  {
   "cell_type": "code",
   "execution_count": 10,
   "metadata": {},
   "outputs": [
    {
     "name": "stdout",
     "output_type": "stream",
     "text": [
      "Value of x: 4\n",
      "Value of y: 1\n",
      "4\n"
     ]
    }
   ],
   "source": [
    "def multiply(x,y=0):\n",
    "    print(\"Value of x:\",x)\n",
    "    print(\"Value of y:\",y)\n",
    "    return(x*y)\n",
    "print(multiply(4,1))"
   ]
  },
  {
   "cell_type": "code",
   "execution_count": 13,
   "metadata": {},
   "outputs": [
    {
     "data": {
      "text/plain": [
       "(4, 7)"
      ]
     },
     "execution_count": 13,
     "metadata": {},
     "output_type": "execute_result"
    }
   ],
   "source": [
    "# swap value\n",
    "def swap(x,y):\n",
    "    z=x\n",
    "    x=y\n",
    "    y=z\n",
    "    return(x,y)\n",
    "swap(7,4)"
   ]
  },
  {
   "cell_type": "code",
   "execution_count": 15,
   "metadata": {},
   "outputs": [
    {
     "data": {
      "text/plain": [
       "9"
      ]
     },
     "execution_count": 15,
     "metadata": {},
     "output_type": "execute_result"
    }
   ],
   "source": [
    "# Input : 19535\n",
    "# output : 9\n",
    "def largedigit(n):\n",
    "    large=0\n",
    "    while n!=0:\n",
    "        r=n%10\n",
    "        if r>large:\n",
    "            large=r\n",
    "        n=n//10\n",
    "    return large\n",
    "largedigit(19535)"
   ]
  },
  {
   "cell_type": "markdown",
   "metadata": {},
   "source": [
    "## For Loop\n",
    "### Syntax1:\n",
    "for i in range(star,stop,step)\n",
    ">statements\n",
    "### Syntax2:\n",
    "for i in iterableobject:\n",
    ">statements"
   ]
  },
  {
   "cell_type": "code",
   "execution_count": 25,
   "metadata": {},
   "outputs": [
    {
     "name": "stdout",
     "output_type": "stream",
     "text": [
      "1 2 3 4 5 6 7 8 9 10 "
     ]
    }
   ],
   "source": [
    "# Function to print a numbers btw two limits\n",
    "def printseries(ll,ul):\n",
    "    for x in range(ll,ul+1):\n",
    "        print(x,end=\" \")\n",
    "    return\n",
    "printseries(1,10)"
   ]
  },
  {
   "cell_type": "markdown",
   "metadata": {},
   "source": [
    "# Data structures:\n",
    "1. List\n",
    "2. Tuple\n",
    "3. Set\n",
    "4. Dictionary"
   ]
  },
  {
   "cell_type": "markdown",
   "metadata": {},
   "source": [
    "## List:\n",
    "- One of the datastructure in Python\n",
    "- Data Structure maens to store,sort and search options\n",
    "- It's one common Data structure in Python,the items of list seperated by comma and enclosed in square brackets[]"
   ]
  },
  {
   "cell_type": "markdown",
   "metadata": {},
   "source": [
    "## Example:\n",
    "- list1=[1,2,3,4,5]\n",
    "- list2=[\"Gitam\",1,2]"
   ]
  },
  {
   "cell_type": "code",
   "execution_count": 35,
   "metadata": {},
   "outputs": [
    {
     "name": "stdout",
     "output_type": "stream",
     "text": [
      "[1, 8, 16, 9, 2]\n",
      "1\n",
      "8\n",
      "1\n",
      "[16, 9, 2]\n",
      "[8, 16, 9, 2]\n",
      "[8, 16, 9]\n",
      "[8, 16, 9]\n"
     ]
    }
   ],
   "source": [
    "li=[1,8,16,9,2]# positive index is [0,1,2,3,4] negative index is [-5,-4,-3,-2,-1]\n",
    "print(li)# will print all numbers in the list\n",
    "print(li[0])# will print the first number in the list\n",
    "print(li[1])# will print the number in the list with index 1 i.e., 8\n",
    "print(li[-5])# will print the number in the list with index -5 i.e.,1\n",
    "print(li[2:])# will print the numbers in the list after index 2 including the number with index 2\n",
    "print(li[1:])# will print the numbers in the list after index 1 including the number with index 1\n",
    "print(li[1:4])\n",
    "print(li[-4:-1])"
   ]
  },
  {
   "cell_type": "code",
   "execution_count": 36,
   "metadata": {},
   "outputs": [
    {
     "name": "stdout",
     "output_type": "stream",
     "text": [
      "['gitam', 1234, 'hyd']\n",
      "['gitam', 425, 'hyd']\n"
     ]
    }
   ],
   "source": [
    "# Update list\n",
    "li=['gitam',1234,'hyd']\n",
    "print(li)\n",
    "li[1]=425\n",
    "print(li)"
   ]
  },
  {
   "cell_type": "code",
   "execution_count": 37,
   "metadata": {},
   "outputs": [
    {
     "name": "stdout",
     "output_type": "stream",
     "text": [
      "['gitam', 1234, 2018, 2019, 'hyd']\n",
      "['gitam', 1234, 2018, 'hyd']\n"
     ]
    }
   ],
   "source": [
    "# delete a value from list\n",
    "li=['gitam',1234,2018,2019,'hyd']\n",
    "print(li)\n",
    "del li[3]\n",
    "print(li)"
   ]
  },
  {
   "cell_type": "code",
   "execution_count": 38,
   "metadata": {},
   "outputs": [
    {
     "name": "stdout",
     "output_type": "stream",
     "text": [
      "3\n"
     ]
    }
   ],
   "source": [
    "# find lemgth list\n",
    "li=['gitam',1234,'hyd']\n",
    "print(len (li))"
   ]
  },
  {
   "cell_type": "code",
   "execution_count": null,
   "metadata": {},
   "outputs": [],
   "source": []
  }
 ],
 "metadata": {
  "kernelspec": {
   "display_name": "Python 3",
   "language": "python",
   "name": "python3"
  },
  "language_info": {
   "codemirror_mode": {
    "name": "ipython",
    "version": 3
   },
   "file_extension": ".py",
   "mimetype": "text/x-python",
   "name": "python",
   "nbconvert_exporter": "python",
   "pygments_lexer": "ipython3",
   "version": "3.7.4"
  }
 },
 "nbformat": 4,
 "nbformat_minor": 2
}
